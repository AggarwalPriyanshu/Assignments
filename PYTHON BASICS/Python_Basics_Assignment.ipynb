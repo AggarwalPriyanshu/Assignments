{
  "nbformat": 4,
  "nbformat_minor": 0,
  "metadata": {
    "colab": {
      "provenance": []
    },
    "kernelspec": {
      "name": "python3",
      "display_name": "Python 3"
    },
    "language_info": {
      "name": "python"
    }
  },
  "cells": [
    {
      "cell_type": "markdown",
      "source": [
        "1.What is Python, and why is it popular?\n",
        "\n",
        "Ans.Python is a very popular and widely used High End Programming language used in various Such as Data Science and other fields as well , because of the easy syntax as well as the the libraries present in python for various domains , makes it widely used as well as a very popular language."
      ],
      "metadata": {
        "id": "_8seP4quoJby"
      }
    },
    {
      "cell_type": "markdown",
      "source": [
        "2.What is an interpreter in Python?\n",
        "\n",
        "Ans.\n",
        "An interpreter in Python executes the source code line by line, converting it into machine code, enabling Python programs to run."
      ],
      "metadata": {
        "id": "zl0ixS0h85C7"
      }
    },
    {
      "cell_type": "markdown",
      "source": [
        "3.What are pre-defined keywords in Python?\n",
        "\n",
        "Ans\n",
        "Pre-defined keywords are reserved words in Python with specific meanings, like if, else, for, while, import, and def."
      ],
      "metadata": {
        "id": "3ixIUr0l6PdF"
      }
    },
    {
      "cell_type": "markdown",
      "source": [
        "4.Can keywords be used as variable names?\n",
        "\n",
        "Ans.\n",
        "No, keywords cannot be used as variable names because they are reserved for specific functionality."
      ],
      "metadata": {
        "id": "vqoZ1Gov6Uft"
      }
    },
    {
      "cell_type": "markdown",
      "source": [
        "5.What is mutability in Python?\n",
        "\n",
        "Ans.\n",
        "Mutability refers to whether an object’s value can be changed after it is created. Mutable objects (e.g., lists) can be modified, while immutable ones (e.g., tuples) cannot."
      ],
      "metadata": {
        "id": "kzwGR-QL6Zzi"
      }
    },
    {
      "cell_type": "markdown",
      "source": [
        "6.Why are lists mutable, but tuples are immutable?\n",
        "\n",
        "Ans.\n",
        "Lists are mutable to allow modifications like adding, removing, or updating elements. Tuples are immutable to ensure consistency and safe usage as keys in dictionaries."
      ],
      "metadata": {
        "id": "xLqzZFHp6d0V"
      }
    },
    {
      "cell_type": "markdown",
      "source": [
        "7.What is the difference between == and is operators in Python?\n",
        "\n",
        "Ans.\n",
        "== checks value equality, while is checks object identity (whether two objects point to the same memory location)."
      ],
      "metadata": {
        "id": "V8DEv2ES6h3S"
      }
    },
    {
      "cell_type": "markdown",
      "source": [
        "8.What are logical operators in Python?\n",
        "\n",
        "Ans.\n",
        "Logical operators include and, or, and not. They are used to combine or negate conditions."
      ],
      "metadata": {
        "id": "59omd9yR6l4n"
      }
    },
    {
      "cell_type": "markdown",
      "source": [
        "9.What is type casting in Python?\n",
        "\n",
        "Ans.\n",
        "Type casting is converting one data type to another, such as using int(), float(), or str() functions."
      ],
      "metadata": {
        "id": "qEpf5jBQ6uOl"
      }
    },
    {
      "cell_type": "markdown",
      "source": [
        "10.What is the difference between implicit and explicit type casting?\n",
        "\n",
        "Ans.\n",
        "Implicit type casting is automatically done by Python (e.g., int to float), while explicit casting requires manual intervention using type conversion functions."
      ],
      "metadata": {
        "id": "P7AZqyHl6x2H"
      }
    },
    {
      "cell_type": "markdown",
      "source": [
        "11.What is the purpose of conditional statements in Python?\n",
        "\n",
        "Ans.\n",
        "Conditional statements (if, elif, else) control the flow of a program based on conditions."
      ],
      "metadata": {
        "id": "jWlhb05g6264"
      }
    },
    {
      "cell_type": "markdown",
      "source": [
        "12.How does the elif statement work?\n",
        "\n",
        "Ans.\n",
        "The elif statement checks multiple conditions sequentially after the initial if. If one condition is true, its block executes, and the rest are skipped."
      ],
      "metadata": {
        "id": "g2B7p8cQ67gc"
      }
    },
    {
      "cell_type": "markdown",
      "source": [
        "13.What is the difference between for and while loops?\n",
        "\n",
        "Ans.\n",
        "A for loop iterates over a sequence (e.g., list, range), while a while loop executes as long as a condition remains true."
      ],
      "metadata": {
        "id": "ZNi2ItNQ6_v2"
      }
    },
    {
      "cell_type": "markdown",
      "source": [
        "14.Describe a scenario where a while loop is more suitable than a for loop.\n",
        "\n",
        "Ans.\n",
        "A while loop is better when the number of iterations is not predetermined, such as reading user input until a specific value is entered."
      ],
      "metadata": {
        "id": "oXMOdUID7DaT"
      }
    },
    {
      "cell_type": "markdown",
      "source": [
        "1.Write a Python program to print \"Hello, World!\".\n"
      ],
      "metadata": {
        "id": "ezFUv4knoJjh"
      }
    },
    {
      "cell_type": "code",
      "source": [
        "print(\"Hello, World!\")"
      ],
      "metadata": {
        "colab": {
          "base_uri": "https://localhost:8080/"
        },
        "id": "-H_MGLlJoOtJ",
        "outputId": "aad4b1a1-728c-49c7-c783-56f77fc4f05a"
      },
      "execution_count": null,
      "outputs": [
        {
          "output_type": "stream",
          "name": "stdout",
          "text": [
            "Hello, World!\n"
          ]
        }
      ]
    },
    {
      "cell_type": "markdown",
      "source": [
        "2.Write a Python program that displays your name and age."
      ],
      "metadata": {
        "id": "MQ0pEtsAobLW"
      }
    },
    {
      "cell_type": "code",
      "source": [
        "Name=\"Priyanshu\"\n",
        "Age = 21\n",
        "print(Name,Age)"
      ],
      "metadata": {
        "colab": {
          "base_uri": "https://localhost:8080/"
        },
        "id": "S9YJqf1Xod-r",
        "outputId": "87f47520-f403-41b7-daf9-b48a14345789"
      },
      "execution_count": null,
      "outputs": [
        {
          "output_type": "stream",
          "name": "stdout",
          "text": [
            "Priyanshu 21\n"
          ]
        }
      ]
    },
    {
      "cell_type": "markdown",
      "source": [
        "3.Write code to print all the pre-defined keywords in Python using the keyword library."
      ],
      "metadata": {
        "id": "pVxBOIWTopCr"
      }
    },
    {
      "cell_type": "code",
      "source": [
        "help(\"keywords\")\n"
      ],
      "metadata": {
        "colab": {
          "base_uri": "https://localhost:8080/"
        },
        "id": "qDIJxnHMotGe",
        "outputId": "de79dac5-2f4b-47de-e12a-3c45be6af5e5"
      },
      "execution_count": null,
      "outputs": [
        {
          "output_type": "stream",
          "name": "stdout",
          "text": [
            "\n",
            "Here is a list of the Python keywords.  Enter any keyword to get more help.\n",
            "\n",
            "False               class               from                or\n",
            "None                continue            global              pass\n",
            "True                def                 if                  raise\n",
            "and                 del                 import              return\n",
            "as                  elif                in                  try\n",
            "assert              else                is                  while\n",
            "async               except              lambda              with\n",
            "await               finally             nonlocal            yield\n",
            "break               for                 not                 \n",
            "\n"
          ]
        }
      ]
    },
    {
      "cell_type": "markdown",
      "source": [
        "4.Write a program that checks if a given word is a Python keyword."
      ],
      "metadata": {
        "id": "cLMmKdYsp9LP"
      }
    },
    {
      "cell_type": "code",
      "source": [
        "import keyword\n",
        "\n",
        "def is_keyword(word):\n",
        "  return keyword.iskeyword(word)\n",
        "\n",
        "print(is_keyword(\"for\"))\n",
        "print(is_keyword(\"print\"))\n",
        "print(is_keyword(\"hello\"))\n"
      ],
      "metadata": {
        "colab": {
          "base_uri": "https://localhost:8080/"
        },
        "id": "dN0wG4tzqAdd",
        "outputId": "b735fffd-689c-4084-ecf1-9dd0f09787cd"
      },
      "execution_count": null,
      "outputs": [
        {
          "output_type": "stream",
          "name": "stdout",
          "text": [
            "True\n",
            "False\n",
            "False\n"
          ]
        }
      ]
    },
    {
      "cell_type": "markdown",
      "source": [
        "5.Create a list and tuple in Python, and demonstrate how attempting to change an element works differently\n",
        "for each."
      ],
      "metadata": {
        "id": "uCmCkgecqgmB"
      }
    },
    {
      "cell_type": "code",
      "source": [
        "my_list = [1, 2, 3, 4, 5]\n",
        "my_tuple = (1, 2, 3, 4, 5)\n",
        "\n",
        "print(\"Original list:\", my_list)\n",
        "print(\"Original tuple:\", my_tuple)\n",
        "\n",
        "my_list[0] = 10\n",
        "print(\"Modified list:\", my_list)\n",
        "try:\n",
        "    my_tuple[0] = 10\n",
        "except TypeError as e:\n",
        "    print(f\"Error modifying tuple: {e}\")"
      ],
      "metadata": {
        "colab": {
          "base_uri": "https://localhost:8080/"
        },
        "id": "G58EoWR2qnvc",
        "outputId": "0edf69f1-3de6-41a5-d271-662619b8ffc2"
      },
      "execution_count": null,
      "outputs": [
        {
          "output_type": "stream",
          "name": "stdout",
          "text": [
            "Original list: [1, 2, 3, 4, 5]\n",
            "Original tuple: (1, 2, 3, 4, 5)\n",
            "Modified list: [10, 2, 3, 4, 5]\n",
            "Error modifying tuple: 'tuple' object does not support item assignment\n"
          ]
        }
      ]
    },
    {
      "cell_type": "markdown",
      "source": [
        "6.Write a function to demonstrate the behavior of mutable and immutable arguments."
      ],
      "metadata": {
        "id": "WEXuYtJzrAub"
      }
    },
    {
      "cell_type": "code",
      "source": [
        "\n",
        "def modify_arguments(arg1, arg2):\n",
        "    arg1 += 10\n",
        "    arg2.append(4)\n",
        "    print(f\"Inside function: arg1 = {arg1}, arg2 = {arg2}\")\n",
        "\n",
        "num = 5\n",
        "my_list = [1, 2, 3]\n",
        "\n",
        "print(f\"Before function call: num = {num}, my_list = {my_list}\")\n",
        "modify_arguments(num, my_list)\n",
        "print(f\"After function call: num = {num}, my_list = {my_list}\")"
      ],
      "metadata": {
        "colab": {
          "base_uri": "https://localhost:8080/"
        },
        "id": "laEh8fTDrE8N",
        "outputId": "f995dd4b-3e00-4b55-89d7-d6cb1e052e3a"
      },
      "execution_count": null,
      "outputs": [
        {
          "output_type": "stream",
          "name": "stdout",
          "text": [
            "Before function call: num = 5, my_list = [1, 2, 3]\n",
            "Inside function: arg1 = 15, arg2 = [1, 2, 3, 4]\n",
            "After function call: num = 5, my_list = [1, 2, 3, 4]\n"
          ]
        }
      ]
    },
    {
      "cell_type": "markdown",
      "source": [
        "7.Write a function to demonstrate the behavior of mutable and immutable arguments."
      ],
      "metadata": {
        "id": "vSrERVKHruv-"
      }
    },
    {
      "cell_type": "code",
      "source": [
        "\n",
        "def modify_arguments(arg1, arg2):\n",
        "    arg1 += 10\n",
        "    arg2.append(4)\n",
        "    print(f\"Inside function: arg1 = {arg1}, arg2 = {arg2}\")\n",
        "\n",
        "num = 5\n",
        "my_list = [1, 2, 3]\n",
        "\n",
        "print(f\"Before function call: num = {num}, my_list = {my_list}\")\n",
        "modify_arguments(num, my_list)\n",
        "print(f\"After function call: num = {num}, my_list = {my_list}\")"
      ],
      "metadata": {
        "colab": {
          "base_uri": "https://localhost:8080/"
        },
        "id": "Ek6HmFb1rzKc",
        "outputId": "bf6832d6-8c9b-4897-d31b-561e646aabd2"
      },
      "execution_count": null,
      "outputs": [
        {
          "output_type": "stream",
          "name": "stdout",
          "text": [
            "Before function call: num = 5, my_list = [1, 2, 3]\n",
            "Inside function: arg1 = 15, arg2 = [1, 2, 3, 4]\n",
            "After function call: num = 5, my_list = [1, 2, 3, 4]\n"
          ]
        }
      ]
    },
    {
      "cell_type": "markdown",
      "source": [
        "8.Write a program to demonstrate the use of logical operators."
      ],
      "metadata": {
        "id": "y1TZuEI1r2RJ"
      }
    },
    {
      "cell_type": "code",
      "source": [
        "\n",
        "x = True\n",
        "y = False\n",
        "\n",
        "print(f\"x and y: {x and y}\")\n",
        "print(f\"x or y: {x or y}\")\n",
        "print(f\"not x: {not x}\")\n",
        "print(f\"not y: {not y}\")\n",
        "\n",
        "a = 10\n",
        "b = 5\n",
        "\n",
        "print(f\"a > 5 and b < 10: {a > 5 and b < 10}\")\n",
        "print(f\"a < 5 or b > 10: {a < 5 or b > 10}\")\n",
        "print(f\"not (a == 10): {not (a == 10)}\")"
      ],
      "metadata": {
        "colab": {
          "base_uri": "https://localhost:8080/"
        },
        "id": "hOR5U4Frr55E",
        "outputId": "c441ab50-c1b5-4285-bddc-4e714b6577d4"
      },
      "execution_count": null,
      "outputs": [
        {
          "output_type": "stream",
          "name": "stdout",
          "text": [
            "x and y: False\n",
            "x or y: True\n",
            "not x: False\n",
            "not y: True\n",
            "a > 5 and b < 10: True\n",
            "a < 5 or b > 10: False\n",
            "not (a == 10): False\n"
          ]
        }
      ]
    },
    {
      "cell_type": "markdown",
      "source": [
        "9.Write a Python program to convert user input from string to integer, float, and boolean types."
      ],
      "metadata": {
        "id": "EjCTlxvZsHB6"
      }
    },
    {
      "cell_type": "code",
      "source": [
        "\n",
        "user_input = input(\"Enter a value: \")\n",
        "\n",
        "try:\n",
        "    integer_value = int(user_input)\n",
        "    print(\"Integer:\", integer_value)\n",
        "except ValueError:\n",
        "    print(\"Invalid input for integer conversion.\")\n",
        "\n",
        "try:\n",
        "    float_value = float(user_input)\n",
        "    print(\"Float:\", float_value)\n",
        "except ValueError:\n",
        "    print(\"Invalid input for float conversion.\")\n",
        "\n",
        "try:\n",
        "    boolean_value = bool(user_input)\n",
        "    print(\"Boolean:\", boolean_value)\n",
        "except ValueError:\n",
        "    print(\"Invalid input for boolean conversion.\")"
      ],
      "metadata": {
        "colab": {
          "base_uri": "https://localhost:8080/"
        },
        "id": "Et9yX0vfsLTG",
        "outputId": "e6ca9282-1f81-4f9d-da87-bffcebffdca0"
      },
      "execution_count": null,
      "outputs": [
        {
          "output_type": "stream",
          "name": "stdout",
          "text": [
            "Enter a value: 15\n",
            "Integer: 15\n",
            "Float: 15.0\n",
            "Boolean: True\n"
          ]
        }
      ]
    },
    {
      "cell_type": "markdown",
      "source": [
        "10.Write code to demonstrate type casting with list elements."
      ],
      "metadata": {
        "id": "7l_GlDJyse_O"
      }
    },
    {
      "cell_type": "code",
      "source": [
        "\n",
        "my_list = [1, '2', 3.0, '4.5', True]\n",
        "\n",
        "int_list = [int(x) for x in my_list if isinstance(x, (int, float, str)) and str(x).isdigit()]\n",
        "print(f\"List with integers: {int_list}\")\n",
        "\n",
        "float_list = [float(x) for x in my_list if isinstance(x, (int, float, str)) and str(x).replace('.', '', 1).isdigit()]\n",
        "print(f\"List with floats: {float_list}\")\n",
        "\n",
        "str_list = [str(x) for x in my_list]\n",
        "print(f\"List with strings: {str_list}\")"
      ],
      "metadata": {
        "id": "eJt9oD0vsiZD",
        "colab": {
          "base_uri": "https://localhost:8080/"
        },
        "outputId": "9b5f7ee5-d325-4814-b4a4-cbb3f4113942"
      },
      "execution_count": 1,
      "outputs": [
        {
          "output_type": "stream",
          "name": "stdout",
          "text": [
            "List with integers: [1, 2]\n",
            "List with floats: [1.0, 2.0, 3.0, 4.5]\n",
            "List with strings: ['1', '2', '3.0', '4.5', 'True']\n"
          ]
        }
      ]
    },
    {
      "cell_type": "markdown",
      "source": [
        "11.Write a program that checks if a number is positive, negative, or zero."
      ],
      "metadata": {
        "id": "Y-HOwrv133Fj"
      }
    },
    {
      "cell_type": "code",
      "source": [
        "from types import EllipsisType\n",
        "N=int(input(\"Enter the number: \"))\n",
        "if N>0:\n",
        "  print(\"NUMBER IS POSITIVE\")\n",
        "if N<0:\n",
        "  print(\"NUMBER IS NEGATIVE\")\n",
        "if N==0:\n",
        "  print(\"NUMBER IS ZERO\")"
      ],
      "metadata": {
        "colab": {
          "base_uri": "https://localhost:8080/"
        },
        "id": "YqFWJAYs34fF",
        "outputId": "6db8c696-071f-4bc5-a64d-90e964586e99"
      },
      "execution_count": 9,
      "outputs": [
        {
          "output_type": "stream",
          "name": "stdout",
          "text": [
            "Enter the number: 15\n",
            "NUMBER IS POSITIVE\n"
          ]
        }
      ]
    },
    {
      "cell_type": "markdown",
      "source": [
        "12. Write a for loop to print numbers from 1 to 10."
      ],
      "metadata": {
        "id": "OWenqV_A4iar"
      }
    },
    {
      "cell_type": "code",
      "source": [
        "N=10\n",
        "for I in range(1,N+1):\n",
        "  print(I)"
      ],
      "metadata": {
        "colab": {
          "base_uri": "https://localhost:8080/"
        },
        "id": "cf65WjEt4lIP",
        "outputId": "2eccc0bd-6dfe-46ba-a939-7bed21cabedf"
      },
      "execution_count": 10,
      "outputs": [
        {
          "output_type": "stream",
          "name": "stdout",
          "text": [
            "1\n",
            "2\n",
            "3\n",
            "4\n",
            "5\n",
            "6\n",
            "7\n",
            "8\n",
            "9\n",
            "10\n"
          ]
        }
      ]
    },
    {
      "cell_type": "markdown",
      "source": [
        "13.Write a Python program to find the sum of all even numbers between 1 and 50."
      ],
      "metadata": {
        "id": "NW6a0NgJ4yWb"
      }
    },
    {
      "cell_type": "code",
      "source": [
        "N=50\n",
        "for I in range(1,N+1):\n",
        "  if I%2==0:\n",
        "    print(I)"
      ],
      "metadata": {
        "colab": {
          "base_uri": "https://localhost:8080/"
        },
        "id": "pBqBJsl443B6",
        "outputId": "cbc4b272-0217-4e87-d8df-2f0a2a5ca77c"
      },
      "execution_count": 11,
      "outputs": [
        {
          "output_type": "stream",
          "name": "stdout",
          "text": [
            "2\n",
            "4\n",
            "6\n",
            "8\n",
            "10\n",
            "12\n",
            "14\n",
            "16\n",
            "18\n",
            "20\n",
            "22\n",
            "24\n",
            "26\n",
            "28\n",
            "30\n",
            "32\n",
            "34\n",
            "36\n",
            "38\n",
            "40\n",
            "42\n",
            "44\n",
            "46\n",
            "48\n",
            "50\n"
          ]
        }
      ]
    },
    {
      "cell_type": "markdown",
      "source": [
        "14.Write a program to reverse a string using a while loop."
      ],
      "metadata": {
        "id": "dIgOqhSI5If1"
      }
    },
    {
      "cell_type": "code",
      "source": [
        "STR=input(\"ENTER THE STRING TO REVERSE:\")\n",
        "LEN=len(STR)\n",
        "REV=\"\"\n",
        "I=LEN-1\n",
        "while I>=0:\n",
        "  REV=REV+STR[I]\n",
        "  I=I-1\n",
        "print(REV)\n"
      ],
      "metadata": {
        "colab": {
          "base_uri": "https://localhost:8080/"
        },
        "id": "FgL6uEdv5SpQ",
        "outputId": "c0b4104d-9ef3-4dcd-f490-0c3239eed024"
      },
      "execution_count": 13,
      "outputs": [
        {
          "output_type": "stream",
          "name": "stdout",
          "text": [
            "ENTER THE STRING TO REVERSE:HELLO\n",
            "OLLEH\n"
          ]
        }
      ]
    },
    {
      "cell_type": "markdown",
      "source": [
        "15.Write a Python program to calculate the factorial of a number provided by the user using a while loop.\n"
      ],
      "metadata": {
        "id": "FerO9bMc6DfY"
      }
    },
    {
      "cell_type": "code",
      "source": [
        "N=int(input(\"ENTER THE NUMBER FOR THE FACTORIAL : \"))\n",
        "I=N\n",
        "FACT=1\n",
        "if I>0:\n",
        "  while I>0:\n",
        "    FACT=FACT*I\n",
        "    I-=1\n",
        "  print(FACT)\n",
        "if I<0:\n",
        "  print(\"FACTORIAL DOESN'T EXIST\")\n",
        "\n"
      ],
      "metadata": {
        "colab": {
          "base_uri": "https://localhost:8080/"
        },
        "id": "Wga91Wn86Goh",
        "outputId": "d22fcffa-f6d6-474c-cd36-948978913afc"
      },
      "execution_count": 25,
      "outputs": [
        {
          "output_type": "stream",
          "name": "stdout",
          "text": [
            "ENTER THE NUMBER FOR THE FACTORIAL : -3\n",
            "FACTORIAL DOESN'T EXIST\n"
          ]
        }
      ]
    }
  ]
}