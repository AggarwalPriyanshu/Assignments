{
  "nbformat": 4,
  "nbformat_minor": 0,
  "metadata": {
    "colab": {
      "provenance": []
    },
    "kernelspec": {
      "name": "python3",
      "display_name": "Python 3"
    },
    "language_info": {
      "name": "python"
    }
  },
  "cells": [
    {
      "cell_type": "markdown",
      "source": [
        "1.What are data structures, and why are they important?\n",
        "\n",
        "\n",
        "\n",
        "Ans.\n",
        "Data structures are ways of organizing and storing data efficiently for easier access and manipulation. They are crucial for optimizing performance in algorithms and solving problems effectively."
      ],
      "metadata": {
        "id": "K3GHX1bji8Jf"
      }
    },
    {
      "cell_type": "markdown",
      "source": [
        "2.Explain the difference between mutable and immutable data types with examples.\n",
        "\n",
        "Ans. Mutable: Can be modified after creation (e.g., lists, dictionaries).\n",
        "\n",
        "Immutable: Cannot be modified after creation (e.g., strings, tuples)."
      ],
      "metadata": {
        "id": "gsBM4zxTkHA1"
      }
    },
    {
      "cell_type": "markdown",
      "source": [
        "3.What are the main differences between lists and tuples in Python?\n",
        "\n",
        "Ans .\n",
        "Lists: Mutable, slower, enclosed in [].\n",
        "\n",
        "Tuples: Immutable, faster, enclosed in ()."
      ],
      "metadata": {
        "id": "MbkYvbtukSQb"
      }
    },
    {
      "cell_type": "markdown",
      "source": [
        "4.Describe how dictionaries store data.\n",
        "\n",
        "Ans.\n",
        "Dictionaries store data as key-value pairs using a hash table for efficient lookup."
      ],
      "metadata": {
        "id": "NazS30F_klF3"
      }
    },
    {
      "cell_type": "markdown",
      "source": [],
      "metadata": {
        "id": "W2qXGHJqkxpA"
      }
    },
    {
      "cell_type": "markdown",
      "source": [
        "5.Why might you use a set instead of a list in Python?\n",
        "\n",
        "Ans.\n",
        "Sets are used for uniqueness and faster membership testing since they don’t allow duplicates and use hashing."
      ],
      "metadata": {
        "id": "zqu3hX5Gk1mT"
      }
    },
    {
      "cell_type": "markdown",
      "source": [
        "6.What is a string in Python, and how is it different from a list?\n",
        "\n",
        "Ans.\n",
        "Strings are immutable sequences of characters, while lists are mutable sequences that can hold any data type."
      ],
      "metadata": {
        "id": "Qh4Yyacnk8LC"
      }
    },
    {
      "cell_type": "markdown",
      "source": [
        "7.How do tuples ensure data integrity in Python?\n",
        "\n",
        "Ans.\n",
        "Tuples are immutable, preventing accidental modification of their contents."
      ],
      "metadata": {
        "id": "ynw0bwlAk_zQ"
      }
    },
    {
      "cell_type": "markdown",
      "source": [
        "8.What is a hash table, and how does it relate to dictionaries in Python?\n",
        "\n",
        "Ans.\n",
        "A hash table is a data structure that maps keys to values using a hash function. Python dictionaries use hash tables internally."
      ],
      "metadata": {
        "id": "8g7VBLI5lFQI"
      }
    },
    {
      "cell_type": "markdown",
      "source": [
        "9.Can lists contain different data types in Python?\n",
        "\n",
        "Ans.\n",
        "Yes, lists can hold elements of different data types."
      ],
      "metadata": {
        "id": "CaG1rX0YlJPh"
      }
    },
    {
      "cell_type": "markdown",
      "source": [
        "10.Explain why strings are immutable in Python.\n",
        "\n",
        "Ans.\n",
        "Strings are immutable for performance and security, as their fixed state ensures they are thread-safe and reusable."
      ],
      "metadata": {
        "id": "vlOHvdMMlOIy"
      }
    },
    {
      "cell_type": "markdown",
      "source": [
        "11.What advantages do dictionaries offer over lists for certain tasks?\n",
        "\n",
        "Ans.\n",
        "Dictionaries provide faster lookups, retrieval by key, and organization of data as key-value pairs."
      ],
      "metadata": {
        "id": "dTpvWqbRlS_W"
      }
    },
    {
      "cell_type": "markdown",
      "source": [
        "12.Describe a scenario where using a tuple would be preferable over a list.\n",
        "\n",
        "Ans.\n",
        "Use tuples for fixed collections of data, like coordinates (x, y) or database keys, where immutability is needed."
      ],
      "metadata": {
        "id": "fgltXSgQlWjx"
      }
    },
    {
      "cell_type": "markdown",
      "source": [
        "13.How do sets handle duplicate values in Python?\n",
        "\n",
        "Ans.\n",
        "Sets automatically discard duplicate values."
      ],
      "metadata": {
        "id": "V5ZHUhp0laAE"
      }
    },
    {
      "cell_type": "markdown",
      "source": [
        "14.How does the “in” keyword work differently for lists and dictionaries?\n",
        "\n",
        "Ans.\n",
        "Lists: Checks for existence of a value.\n",
        "\n",
        "Dictionaries: Checks for existence of a key."
      ],
      "metadata": {
        "id": "IM93So0glez8"
      }
    },
    {
      "cell_type": "markdown",
      "source": [
        "15.Can you modify the elements of a tuple? Explain why or why not.\n",
        "\n",
        "Ans.\n",
        "No, tuples are immutable, meaning their elements cannot be changed after creation."
      ],
      "metadata": {
        "id": "AC6XlocellEO"
      }
    },
    {
      "cell_type": "markdown",
      "source": [
        "16.What is a nested dictionary, and give an example of its use case.\n",
        "\n",
        "Ans.\n",
        "A nested dictionary is a dictionary inside another dictionary, useful for hierarchical data like student records."
      ],
      "metadata": {
        "id": "6rLf0TF3lpIx"
      }
    },
    {
      "cell_type": "markdown",
      "source": [
        "17.Describe the time complexity of accessing elements in a dictionary.\n",
        "\n",
        "Ans.\n",
        "Accessing elements in a dictionary has an average time complexity of\n",
        "𝑂\n",
        "(\n",
        "1\n",
        ")\n",
        "O(1), thanks to hashing."
      ],
      "metadata": {
        "id": "_yeTNky4lxV3"
      }
    },
    {
      "cell_type": "markdown",
      "source": [
        "18.In what situations are lists preferred over dictionaries?\n",
        "\n",
        "Ans.\n",
        "Lists are better when data order matters or when you don’t need key-based retrieval.\n",
        "\n"
      ],
      "metadata": {
        "id": "lcQ0v2b8l30S"
      }
    },
    {
      "cell_type": "markdown",
      "source": [
        "19.Why are dictionaries considered unordered, and how does that affect data retrieval?\n",
        "\n",
        "Ans.\n",
        "Dictionaries don’t maintain insertion order (before Python 3.7), so keys are not retrieved in a predictable sequence."
      ],
      "metadata": {
        "id": "IBS4Umx7mFxu"
      }
    },
    {
      "cell_type": "markdown",
      "source": [
        "20.Explain the difference between a list and a dictionary in terms of data retrieval.\n",
        "\n",
        "Ans.\n",
        "Lists: Retrieve elements by index.\n",
        "Dictionaries: Retrieve elements by key."
      ],
      "metadata": {
        "id": "_ZkYKTAwmNK2"
      }
    },
    {
      "cell_type": "markdown",
      "source": [
        "1.Write a code to create a string with your name and print it."
      ],
      "metadata": {
        "id": "j5vUM1grazZE"
      }
    },
    {
      "cell_type": "code",
      "source": [
        "STR = \"Priyanshu\"\n",
        "print(STR)"
      ],
      "metadata": {
        "colab": {
          "base_uri": "https://localhost:8080/"
        },
        "id": "gl1mi2p3a-Zx",
        "outputId": "597aa377-fff7-41b5-de2b-a30268ac21e9"
      },
      "execution_count": 1,
      "outputs": [
        {
          "output_type": "stream",
          "name": "stdout",
          "text": [
            "Priyanshu\n"
          ]
        }
      ]
    },
    {
      "cell_type": "markdown",
      "source": [
        "2.Write a code to find the length of the string \"Hello World\"."
      ],
      "metadata": {
        "id": "1cX8MpSebKHY"
      }
    },
    {
      "cell_type": "code",
      "source": [
        "print(len(\"Hello World\"))"
      ],
      "metadata": {
        "colab": {
          "base_uri": "https://localhost:8080/"
        },
        "id": "Y17UAWxWbQHH",
        "outputId": "5c0ac80c-5e88-4e28-ff7a-24cc7dd339f7"
      },
      "execution_count": 2,
      "outputs": [
        {
          "output_type": "stream",
          "name": "stdout",
          "text": [
            "11\n"
          ]
        }
      ]
    },
    {
      "cell_type": "markdown",
      "source": [
        "3.Write a code to slice the first 3 characters from the string \"Python Programming\"."
      ],
      "metadata": {
        "id": "jJREGhsaba0V"
      }
    },
    {
      "cell_type": "code",
      "source": [
        "string = \"Python Programming\"\n",
        "sliced_string = string[:3]\n",
        "print(sliced_string)\n"
      ],
      "metadata": {
        "colab": {
          "base_uri": "https://localhost:8080/"
        },
        "id": "WyMHb9trbeZI",
        "outputId": "a8ec302e-d284-49ac-cd62-43df886e4702"
      },
      "execution_count": 3,
      "outputs": [
        {
          "output_type": "stream",
          "name": "stdout",
          "text": [
            "Pyt\n"
          ]
        }
      ]
    },
    {
      "cell_type": "markdown",
      "source": [
        "4.Write a code to convert the string \"hello\" to uppercase."
      ],
      "metadata": {
        "id": "nADMm6qEcAg8"
      }
    },
    {
      "cell_type": "code",
      "source": [
        "str=\"hello\"\n",
        "STR=str.upper()\n",
        "print(STR)"
      ],
      "metadata": {
        "colab": {
          "base_uri": "https://localhost:8080/"
        },
        "id": "W3gAXLxPcDmw",
        "outputId": "978046c5-bd63-4720-9afb-1f8974cec68c"
      },
      "execution_count": 6,
      "outputs": [
        {
          "output_type": "stream",
          "name": "stdout",
          "text": [
            "HELLO\n"
          ]
        }
      ]
    },
    {
      "cell_type": "markdown",
      "source": [
        "5.Write a code to replace the word \"apple\" with \"orange\" in the string \"I like apple\"."
      ],
      "metadata": {
        "id": "HxcX4fEnchXP"
      }
    },
    {
      "cell_type": "code",
      "source": [
        "str = \"I like apple\"\n",
        "new_str = str.replace(\"apple\", \"orange\")\n",
        "print(new_str)\n"
      ],
      "metadata": {
        "colab": {
          "base_uri": "https://localhost:8080/"
        },
        "id": "DVJ8FBzqclXx",
        "outputId": "a1e023f0-ca2f-4cd2-eed4-03a311c806fd"
      },
      "execution_count": 7,
      "outputs": [
        {
          "output_type": "stream",
          "name": "stdout",
          "text": [
            "I like orange\n"
          ]
        }
      ]
    },
    {
      "cell_type": "markdown",
      "source": [
        "6.Write a code to create a list with numbers 1 to 5 and print it."
      ],
      "metadata": {
        "id": "YVg5gsdwc52J"
      }
    },
    {
      "cell_type": "code",
      "source": [
        "list=[1,2,3,4,5]\n",
        "list"
      ],
      "metadata": {
        "colab": {
          "base_uri": "https://localhost:8080/"
        },
        "id": "9ILDE28NdCVt",
        "outputId": "f8f6c281-1aa3-4c98-e73d-764579d5b2a3"
      },
      "execution_count": 8,
      "outputs": [
        {
          "output_type": "execute_result",
          "data": {
            "text/plain": [
              "[1, 2, 3, 4, 5]"
            ]
          },
          "metadata": {},
          "execution_count": 8
        }
      ]
    },
    {
      "cell_type": "markdown",
      "source": [
        "7.Write a code to append the number 10 to the list [1, 2, 3, 4]."
      ],
      "metadata": {
        "id": "H_NtXk0VdJU0"
      }
    },
    {
      "cell_type": "code",
      "source": [
        "list=[1,2,3,4]\n",
        "list.append(10)\n",
        "list"
      ],
      "metadata": {
        "colab": {
          "base_uri": "https://localhost:8080/"
        },
        "id": "qdiCCxsidLQC",
        "outputId": "ffa1705e-9590-4edd-fbfc-b9c20ab4c46f"
      },
      "execution_count": 9,
      "outputs": [
        {
          "output_type": "execute_result",
          "data": {
            "text/plain": [
              "[1, 2, 3, 4, 10]"
            ]
          },
          "metadata": {},
          "execution_count": 9
        }
      ]
    },
    {
      "cell_type": "markdown",
      "source": [
        "8.Write a code to remove the number 3 from the list [1, 2, 3, 4, 5]."
      ],
      "metadata": {
        "id": "A51eIYD0dSlQ"
      }
    },
    {
      "cell_type": "code",
      "source": [
        "list=[1,2,3,4,5]\n",
        "list.remove(3)\n",
        "list"
      ],
      "metadata": {
        "colab": {
          "base_uri": "https://localhost:8080/"
        },
        "id": "bFMlnLz4dVvq",
        "outputId": "4425a22c-fc74-4471-8890-e87578e0c132"
      },
      "execution_count": 10,
      "outputs": [
        {
          "output_type": "execute_result",
          "data": {
            "text/plain": [
              "[1, 2, 4, 5]"
            ]
          },
          "metadata": {},
          "execution_count": 10
        }
      ]
    },
    {
      "cell_type": "markdown",
      "source": [
        "9.Write a code to access the second element in the list ['a', 'b', 'c', 'd']."
      ],
      "metadata": {
        "id": "PWoyC403dfUO"
      }
    },
    {
      "cell_type": "code",
      "source": [
        "list=['a','b','c','d']\n",
        "print(list[1])"
      ],
      "metadata": {
        "colab": {
          "base_uri": "https://localhost:8080/"
        },
        "id": "u_ECbNNLdhHv",
        "outputId": "6b8c021e-6715-48d0-c74f-617fdac0cc81"
      },
      "execution_count": 13,
      "outputs": [
        {
          "output_type": "stream",
          "name": "stdout",
          "text": [
            "b\n"
          ]
        }
      ]
    },
    {
      "cell_type": "markdown",
      "source": [
        "10.Write a code to reverse the list [10, 20, 30, 40, 50]."
      ],
      "metadata": {
        "id": "GKSGBXG2eOZc"
      }
    },
    {
      "cell_type": "code",
      "source": [
        "list=[10,20,30,40,50]\n",
        "list.reverse()\n",
        "list"
      ],
      "metadata": {
        "colab": {
          "base_uri": "https://localhost:8080/"
        },
        "id": "JbNd6CJSeRWB",
        "outputId": "74a6eb20-de7a-495b-9be0-d340244955d9"
      },
      "execution_count": 14,
      "outputs": [
        {
          "output_type": "execute_result",
          "data": {
            "text/plain": [
              "[50, 40, 30, 20, 10]"
            ]
          },
          "metadata": {},
          "execution_count": 14
        }
      ]
    },
    {
      "cell_type": "markdown",
      "source": [
        "11.Write a code to create a tuple with the elements 10, 20, 30 and print it."
      ],
      "metadata": {
        "id": "7UR539wketiH"
      }
    },
    {
      "cell_type": "code",
      "source": [
        "T=(10,20,30)\n",
        "T\n"
      ],
      "metadata": {
        "colab": {
          "base_uri": "https://localhost:8080/"
        },
        "id": "DI6L2iWpexFl",
        "outputId": "94d6e36f-9faa-4ca6-b053-b29808e9ecef"
      },
      "execution_count": 15,
      "outputs": [
        {
          "output_type": "execute_result",
          "data": {
            "text/plain": [
              "(10, 20, 30)"
            ]
          },
          "metadata": {},
          "execution_count": 15
        }
      ]
    },
    {
      "cell_type": "markdown",
      "source": [
        "12. Write a code to access the first element of the tuple ('apple', 'banana', 'cherry')."
      ],
      "metadata": {
        "id": "H0h8XP1ke8Gb"
      }
    },
    {
      "cell_type": "code",
      "source": [
        "T=('apple','banana','cherry')\n",
        "print(T[0])"
      ],
      "metadata": {
        "colab": {
          "base_uri": "https://localhost:8080/"
        },
        "id": "eelzSBeMe_Im",
        "outputId": "9403803d-c9b5-448f-8b34-a5b155b5099f"
      },
      "execution_count": 17,
      "outputs": [
        {
          "output_type": "stream",
          "name": "stdout",
          "text": [
            "apple\n"
          ]
        }
      ]
    },
    {
      "cell_type": "markdown",
      "source": [
        "13.Write a code to count how many times the number 2 appears in the tuple (1, 2, 3, 2, 4, 2)."
      ],
      "metadata": {
        "id": "WqrtjmCVfNUs"
      }
    },
    {
      "cell_type": "code",
      "source": [
        "T=(1,2,3,2,4,2)\n",
        "T.count(2)"
      ],
      "metadata": {
        "colab": {
          "base_uri": "https://localhost:8080/"
        },
        "id": "YuQIUI0CfOub",
        "outputId": "e29f6aec-e6bc-4d92-e3a7-0057e6f99728"
      },
      "execution_count": 18,
      "outputs": [
        {
          "output_type": "execute_result",
          "data": {
            "text/plain": [
              "3"
            ]
          },
          "metadata": {},
          "execution_count": 18
        }
      ]
    },
    {
      "cell_type": "markdown",
      "source": [
        "14.Write a code to find the index of the element \"cat\" in the tuple ('dog', 'cat', 'rabbit')."
      ],
      "metadata": {
        "id": "RY-ET29MfX3E"
      }
    },
    {
      "cell_type": "code",
      "source": [
        "T=('dog','cat','rabbit')\n",
        "T.index('cat')\n"
      ],
      "metadata": {
        "colab": {
          "base_uri": "https://localhost:8080/"
        },
        "id": "qlxbD9wLfb16",
        "outputId": "0deb9117-6046-430c-923c-72caad3a153a"
      },
      "execution_count": 19,
      "outputs": [
        {
          "output_type": "execute_result",
          "data": {
            "text/plain": [
              "1"
            ]
          },
          "metadata": {},
          "execution_count": 19
        }
      ]
    },
    {
      "cell_type": "markdown",
      "source": [
        "15.Write a code to check if the element \"banana\" is in the tuple ('apple', 'orange', 'banana')."
      ],
      "metadata": {
        "id": "TAPlPosagrj7"
      }
    },
    {
      "cell_type": "code",
      "source": [
        "T= ('apple', 'orange', 'banana')\n",
        "if \"banana\" in T:\n",
        "  print(\"banana is present in the tuple\")\n",
        "else:\n",
        "  print(\"banana is not present in the tuple\")\n"
      ],
      "metadata": {
        "colab": {
          "base_uri": "https://localhost:8080/"
        },
        "id": "sTUYnkXJgwC2",
        "outputId": "2792ce86-81f3-4497-fe16-1c0b4d36c55c"
      },
      "execution_count": 20,
      "outputs": [
        {
          "output_type": "stream",
          "name": "stdout",
          "text": [
            "banana is present in the tuple\n"
          ]
        }
      ]
    },
    {
      "cell_type": "markdown",
      "source": [
        "16. Write a code to create a set with the elements 1, 2, 3, 4, 5 and print it."
      ],
      "metadata": {
        "id": "O36T8Mvpg7kj"
      }
    },
    {
      "cell_type": "code",
      "source": [
        "S = {1, 2, 3, 4, 5}\n",
        "S\n"
      ],
      "metadata": {
        "colab": {
          "base_uri": "https://localhost:8080/"
        },
        "id": "8-UzjCuEg_d7",
        "outputId": "2bd9d189-b8b1-4c79-fe84-c29fbe939b70"
      },
      "execution_count": 21,
      "outputs": [
        {
          "output_type": "execute_result",
          "data": {
            "text/plain": [
              "{1, 2, 3, 4, 5}"
            ]
          },
          "metadata": {},
          "execution_count": 21
        }
      ]
    },
    {
      "cell_type": "markdown",
      "source": [
        "17. Write a code to add the element 6 to the set {1, 2, 3, 4}."
      ],
      "metadata": {
        "id": "BfznJq9ChJ0v"
      }
    },
    {
      "cell_type": "code",
      "source": [
        "S={1,2,3,4}\n",
        "S.add(6)\n",
        "S"
      ],
      "metadata": {
        "colab": {
          "base_uri": "https://localhost:8080/"
        },
        "id": "4u_jTDCyhNK9",
        "outputId": "a59e42c3-7b90-49c8-9559-152d77881052"
      },
      "execution_count": 22,
      "outputs": [
        {
          "output_type": "execute_result",
          "data": {
            "text/plain": [
              "{1, 2, 3, 4, 6}"
            ]
          },
          "metadata": {},
          "execution_count": 22
        }
      ]
    },
    {
      "cell_type": "markdown",
      "source": [
        "18. Write a code to create a tuple with the elements 10, 20, 30 and print it."
      ],
      "metadata": {
        "id": "n56wjZlhhWJb"
      }
    },
    {
      "cell_type": "code",
      "source": [
        "T=(10,20,30)\n",
        "T"
      ],
      "metadata": {
        "colab": {
          "base_uri": "https://localhost:8080/"
        },
        "id": "F0Emf1mlhZQX",
        "outputId": "67f2f506-069a-4bb8-91bd-adea0d1539c3"
      },
      "execution_count": 24,
      "outputs": [
        {
          "output_type": "execute_result",
          "data": {
            "text/plain": [
              "(10, 20, 30)"
            ]
          },
          "metadata": {},
          "execution_count": 24
        }
      ]
    },
    {
      "cell_type": "markdown",
      "source": [
        "19.Write a code to access the first element of the tuple ('apple', 'banana', 'cherry')."
      ],
      "metadata": {
        "id": "Hju31kTnhm7t"
      }
    },
    {
      "cell_type": "code",
      "source": [
        "T=('apple','banana','cherry')\n",
        "print(T[0])"
      ],
      "metadata": {
        "colab": {
          "base_uri": "https://localhost:8080/"
        },
        "id": "AHbHxqPxhr0Z",
        "outputId": "485c838c-c179-4371-c160-011e674065c8"
      },
      "execution_count": 25,
      "outputs": [
        {
          "output_type": "stream",
          "name": "stdout",
          "text": [
            "apple\n"
          ]
        }
      ]
    },
    {
      "cell_type": "markdown",
      "source": [
        "20. Write a code to count how many times the number 2 appears in the tuple (1, 2, 3, 2, 4, 2)."
      ],
      "metadata": {
        "id": "B6U_a_q2hwVi"
      }
    },
    {
      "cell_type": "code",
      "source": [
        "T=(1,2,3,2,4,2)\n",
        "T.count(2)"
      ],
      "metadata": {
        "colab": {
          "base_uri": "https://localhost:8080/"
        },
        "id": "xYGAL-_ghzGv",
        "outputId": "da5c41f7-4ac8-4571-e279-e8c26e86377e"
      },
      "execution_count": 26,
      "outputs": [
        {
          "output_type": "execute_result",
          "data": {
            "text/plain": [
              "3"
            ]
          },
          "metadata": {},
          "execution_count": 26
        }
      ]
    },
    {
      "cell_type": "markdown",
      "source": [
        "21. Write a code to find the index of the element \"cat\" in the tuple ('dog', 'cat', 'rabbit')."
      ],
      "metadata": {
        "id": "xvEuGxeih-zo"
      }
    },
    {
      "cell_type": "code",
      "source": [
        "T=('dog','cat','rabbit')\n",
        "T.index('cat')"
      ],
      "metadata": {
        "colab": {
          "base_uri": "https://localhost:8080/"
        },
        "id": "EqK9CJr0iBRX",
        "outputId": "9857d39a-e6dd-406a-b1a2-67ad44d7d57d"
      },
      "execution_count": 27,
      "outputs": [
        {
          "output_type": "execute_result",
          "data": {
            "text/plain": [
              "1"
            ]
          },
          "metadata": {},
          "execution_count": 27
        }
      ]
    },
    {
      "cell_type": "markdown",
      "source": [
        "22. Write a code to check if the element \"banana\" is in the tuple ('apple', 'orange', 'banana')."
      ],
      "metadata": {
        "id": "7QKyjOpuiLme"
      }
    },
    {
      "cell_type": "code",
      "source": [
        "T= ('apple', 'orange', 'banana')\n",
        "if \"banana\" in T:\n",
        "  print(\"banana is present in the tuple\")\n",
        "else:\n",
        "  print(\"banana is not present in the tuple\")\n"
      ],
      "metadata": {
        "colab": {
          "base_uri": "https://localhost:8080/"
        },
        "id": "aLN64JaXiOS-",
        "outputId": "22ee40a3-fbbf-4c04-df18-fe48fc8d3552"
      },
      "execution_count": 28,
      "outputs": [
        {
          "output_type": "stream",
          "name": "stdout",
          "text": [
            "banana is present in the tuple\n"
          ]
        }
      ]
    },
    {
      "cell_type": "markdown",
      "source": [
        "23. Write a code to create a set with the elements 1, 2, 3, 4, 5 and print it."
      ],
      "metadata": {
        "id": "DFGnzNxZiTIh"
      }
    },
    {
      "cell_type": "code",
      "source": [
        "S={1,2,3,4,5}\n",
        "S"
      ],
      "metadata": {
        "colab": {
          "base_uri": "https://localhost:8080/"
        },
        "id": "4-8agmT_iV3t",
        "outputId": "4ef42969-edf0-458e-c634-0d16113142c0"
      },
      "execution_count": 29,
      "outputs": [
        {
          "output_type": "execute_result",
          "data": {
            "text/plain": [
              "{1, 2, 3, 4, 5}"
            ]
          },
          "metadata": {},
          "execution_count": 29
        }
      ]
    },
    {
      "cell_type": "markdown",
      "source": [
        "24. Write a code to add the element 6 to the set {1, 2, 3, 4}."
      ],
      "metadata": {
        "id": "e4LYl6SjiaAu"
      }
    },
    {
      "cell_type": "code",
      "source": [
        "S={1,2,3,4}\n",
        "S.add(6)\n",
        "S"
      ],
      "metadata": {
        "colab": {
          "base_uri": "https://localhost:8080/"
        },
        "id": "cDhuintcicwf",
        "outputId": "1cc236ca-b6d4-48e4-bc6e-51453e0b8603"
      },
      "execution_count": 30,
      "outputs": [
        {
          "output_type": "execute_result",
          "data": {
            "text/plain": [
              "{1, 2, 3, 4, 6}"
            ]
          },
          "metadata": {},
          "execution_count": 30
        }
      ]
    }
  ]
}
