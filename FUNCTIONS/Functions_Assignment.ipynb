{
  "nbformat": 4,
  "nbformat_minor": 0,
  "metadata": {
    "colab": {
      "provenance": []
    },
    "kernelspec": {
      "name": "python3",
      "display_name": "Python 3"
    },
    "language_info": {
      "name": "python"
    }
  },
  "cells": [
    {
      "cell_type": "markdown",
      "source": [
        "1.What is the difference between a function and a method in Python?\n",
        "\n",
        "Ans.\n",
        "A function is defined independently and can be called on its own, while a method is associated with an object and operates on its data.\n",
        "Example: len() (function) vs. \"hello\".upper() (method)."
      ],
      "metadata": {
        "id": "cPIk-57UPiMG"
      }
    },
    {
      "cell_type": "markdown",
      "source": [
        "2.Explain the concept of function arguments and parameters in Python?\n",
        "\n",
        "\n",
        "Ans.\n",
        "Parameters are variables defined in the function header, while arguments are the actual values passed to the function during a call.\n",
        "Example: def greet(name) (parameter) vs. greet(\"John\") (argument)."
      ],
      "metadata": {
        "id": "vIkNVECIYQG6"
      }
    },
    {
      "cell_type": "markdown",
      "source": [
        "3.What are the different ways to define and call a function in Python?\n",
        "\n",
        "Ans.\n",
        "Functions can be defined using def or lambda. They can be called by their name or via a reference.\n",
        "Example: def func(): return 1, func().\n",
        "\n"
      ],
      "metadata": {
        "id": "uBB5SOnNYXV9"
      }
    },
    {
      "cell_type": "markdown",
      "source": [
        "4.What is the purpose of the return statement in a Python function?\n",
        "\n",
        "Ans.\n",
        "The return statement is used to send a result back to the caller of the function.\n",
        "Example: def add(a, b): return a + b."
      ],
      "metadata": {
        "id": "KL7PHVc-ZDUm"
      }
    },
    {
      "cell_type": "markdown",
      "source": [
        "5.What are iterators in Python and how do they differ from iterables?\n",
        "\n",
        "Ans.\n",
        "An iterator produces values one at a time using __next__(). Iterables are objects like lists that can be looped through and can return an iterator using iter().\n",
        "Example: list (iterable), iter(list) (iterator)"
      ],
      "metadata": {
        "id": "3X4bPEt6ZJcA"
      }
    },
    {
      "cell_type": "markdown",
      "source": [
        "6.Explain the concept of generators in Python and how they are defined.\n",
        "\n",
        "Ans.\n",
        "Generators are special functions that yield values lazily using the yield keyword instead of returning all values at once.\n",
        "Example : def gen () yield 1  yeild 2"
      ],
      "metadata": {
        "id": "fjQJAqBwYeFK"
      }
    },
    {
      "cell_type": "markdown",
      "source": [
        "7.What are the advantages of using generators over regular functions?\n",
        "\n",
        "Ans.\n",
        "Generators save memory by yielding items one by one rather than storing all results in memory, making them ideal for large datasets.\n",
        "\n"
      ],
      "metadata": {
        "id": "2rRBpayaeM3w"
      }
    },
    {
      "cell_type": "markdown",
      "source": [
        "8.What is a lambda function in Python and when is it typically used?\n",
        "\n",
        "Ans.\n",
        "A lambda function is an anonymous, one-line function defined using the lambda keyword. It is typically used for short, throwaway functions.\n",
        "Example: lambda x: x + 1."
      ],
      "metadata": {
        "id": "1vvEt2gDeZU1"
      }
    },
    {
      "cell_type": "markdown",
      "source": [
        "9.Explain the purpose and usage of the map() function in Python.\n",
        "\n",
        "Ans.\n",
        "map() applies a specified function to all items in an iterable, returning a map object.\n",
        "\n",
        "Example : list(map(lambda x: x * 2, [1, 2, 3]))\n"
      ],
      "metadata": {
        "id": "uUlTkzNtecrD"
      }
    },
    {
      "cell_type": "markdown",
      "source": [
        "10.What is the difference between map(), reduce(), and filter() functions in Python?\n",
        "\n",
        "Ans.\n",
        "map(): Transforms each item in an iterable using a function.\n",
        "\n",
        "reduce(): Aggregates items in an iterable into a single value.\n",
        "\n",
        "filter(): Filters items in an iterable based on a condition.\n",
        "\n",
        "Example : map(lambda x: x * 2, [1, 2]); reduce(lambda x, y: x + y, [1, 2]); filter(lambda x: x > 1, [1, 2])\n",
        "\n"
      ],
      "metadata": {
        "id": "LxDzVGeqepV3"
      }
    },
    {
      "cell_type": "markdown",
      "source": [
        "11.Using pen and paper, write the internal mechanism for sum operation using the reduce function on this given list: [47, 11, 42, 13].\n",
        "\n",
        "Ans.\n",
        "The reduce() function applies a cumulative operation:\n",
        "\n",
        "Step 1: 47 + 11 = 58\n",
        "\n",
        "Step 2: 58 + 42 = 100\n",
        "\n",
        "Step 3: 100 + 13 = 113\n",
        "\n",
        "Final result: 113."
      ],
      "metadata": {
        "id": "F6sfR2obe0D4"
      }
    },
    {
      "cell_type": "markdown",
      "source": [
        "**Practical Questions**"
      ],
      "metadata": {
        "id": "9IbrQnAsPmw8"
      }
    },
    {
      "cell_type": "markdown",
      "source": [
        "1.Write a Python function that takes a list of numbers as input and returns the sum of all even numbers in\n",
        "the list."
      ],
      "metadata": {
        "id": "7Wz2Yq04PvOo"
      }
    },
    {
      "cell_type": "code",
      "source": [
        "def even_list(list):\n",
        "  sum=0\n",
        "  for I in list:\n",
        "    if I%2==0:\n",
        "      sum+=I\n",
        "    else:\n",
        "      continue\n",
        "  return sum\n",
        "\n",
        "List=eval(input(\"enter the list: \"))\n",
        "even_list(List)"
      ],
      "metadata": {
        "colab": {
          "base_uri": "https://localhost:8080/"
        },
        "id": "zoFjXeYePlng",
        "outputId": "a796c662-3878-40aa-efd2-59d7646e06da"
      },
      "execution_count": 6,
      "outputs": [
        {
          "name": "stdout",
          "output_type": "stream",
          "text": [
            "enter the list: [2,4,6,8,10,12]\n"
          ]
        },
        {
          "output_type": "execute_result",
          "data": {
            "text/plain": [
              "42"
            ]
          },
          "metadata": {},
          "execution_count": 6
        }
      ]
    },
    {
      "cell_type": "markdown",
      "source": [
        "2.Create a Python function that accepts a string and returns the reverse of that string."
      ],
      "metadata": {
        "id": "DSeE7SSzRIDK"
      }
    },
    {
      "cell_type": "code",
      "source": [
        "def Reverse(A):\n",
        "  length=len(A)\n",
        "  REV=\"\"\n",
        "  for I in A:\n",
        "    REV+=A[length-1]\n",
        "    length-=1\n",
        "  return REV\n",
        "\n",
        "str=input(\"ENTER THE STRING: \")\n",
        "Reverse(str)"
      ],
      "metadata": {
        "colab": {
          "base_uri": "https://localhost:8080/",
          "height": 53
        },
        "id": "H05vYsH8RGry",
        "outputId": "adf65fa2-fe92-4393-ba33-39a1af139f8f"
      },
      "execution_count": 14,
      "outputs": [
        {
          "name": "stdout",
          "output_type": "stream",
          "text": [
            "ENTER THE STRING: PRIYANSHU\n"
          ]
        },
        {
          "output_type": "execute_result",
          "data": {
            "text/plain": [
              "'UHSNAYIRP'"
            ],
            "application/vnd.google.colaboratory.intrinsic+json": {
              "type": "string"
            }
          },
          "metadata": {},
          "execution_count": 14
        }
      ]
    },
    {
      "cell_type": "markdown",
      "source": [
        "3.Implement a Python function that takes a list of integers and returns a new list containing the squares of\n",
        "each number"
      ],
      "metadata": {
        "id": "XQHHTTw_SG3e"
      }
    },
    {
      "cell_type": "code",
      "source": [
        "def SQUARE(list):\n",
        "  LIST2=[]\n",
        "  for I in list:\n",
        "    LIST2.append(I**2)\n",
        "  return LIST2\n",
        "\n",
        "List=eval(input(\"ENTER THE LIST: \"))\n",
        "SQUARE(List)"
      ],
      "metadata": {
        "colab": {
          "base_uri": "https://localhost:8080/"
        },
        "id": "_QFPbL99SLCt",
        "outputId": "305e87a9-c983-47cf-e15d-fa4af0eb2539"
      },
      "execution_count": 16,
      "outputs": [
        {
          "name": "stdout",
          "output_type": "stream",
          "text": [
            "ENTER THE LIST: [1,2,3,4,5,6,7,8,9,10]\n"
          ]
        },
        {
          "output_type": "execute_result",
          "data": {
            "text/plain": [
              "[1, 4, 9, 16, 25, 36, 49, 64, 81, 100]"
            ]
          },
          "metadata": {},
          "execution_count": 16
        }
      ]
    },
    {
      "cell_type": "markdown",
      "source": [
        "4.Write a Python function that checks if a given number is prime or not from 1 to 200."
      ],
      "metadata": {
        "id": "R7ToZc72S-aK"
      }
    },
    {
      "cell_type": "code",
      "source": [
        "def is_prime(num):\n",
        "    if num < 2:\n",
        "        return False\n",
        "    for i in range(2, int(num**0.5) + 1):\n",
        "        if num % i == 0:\n",
        "            return False\n",
        "    return True\n",
        "\n",
        "for i in range(1, 201):\n",
        "    if is_prime(i):\n",
        "        print(i, end=\" \")\n"
      ],
      "metadata": {
        "colab": {
          "base_uri": "https://localhost:8080/"
        },
        "id": "3IKwhO6gTB_d",
        "outputId": "f36e832b-bdf6-4b38-add2-59da22e8701e"
      },
      "execution_count": 17,
      "outputs": [
        {
          "output_type": "stream",
          "name": "stdout",
          "text": [
            "2 3 5 7 11 13 17 19 23 29 31 37 41 43 47 53 59 61 67 71 73 79 83 89 97 101 103 107 109 113 127 131 137 139 149 151 157 163 167 173 179 181 191 193 197 199 "
          ]
        }
      ]
    },
    {
      "cell_type": "markdown",
      "source": [
        "5.Create an iterator class in Python that generates the Fibonacci sequence up to a specified number of\n",
        "terms."
      ],
      "metadata": {
        "id": "DP2yu-rXVMIm"
      }
    },
    {
      "cell_type": "code",
      "source": [
        "class Fibonacci:\n",
        "    def __init__(self, n):\n",
        "        self.n = n\n",
        "        self.a, self.b = 0, 1\n",
        "        self.count = 0\n",
        "\n",
        "    def __iter__(self):\n",
        "        return self\n",
        "\n",
        "    def __next__(self):\n",
        "        if self.count >= self.n:\n",
        "            raise StopIteration\n",
        "        self.count += 1\n",
        "        result = self.a\n",
        "        self.a, self.b = self.b, self.a + self.b\n",
        "        return result\n",
        "\n",
        "fib = Fibonacci(10)\n",
        "for num in fib:\n",
        "    print(num, end=\" \")\n"
      ],
      "metadata": {
        "colab": {
          "base_uri": "https://localhost:8080/"
        },
        "id": "mzcA3YrkVQff",
        "outputId": "9aa80f8f-15f1-4b29-b7bf-9907aa5f4a97"
      },
      "execution_count": 18,
      "outputs": [
        {
          "output_type": "stream",
          "name": "stdout",
          "text": [
            "0 1 1 2 3 5 8 13 21 34 "
          ]
        }
      ]
    },
    {
      "cell_type": "markdown",
      "source": [
        "6.Write a generator function in Python that yields the powers of 2 up to a given exponent.\n",
        "\n"
      ],
      "metadata": {
        "id": "b0AE4QHLVzlJ"
      }
    },
    {
      "cell_type": "code",
      "source": [
        "def powers_of_2(exponent):\n",
        "    for i in range(exponent + 1):\n",
        "        yield 2**i\n",
        "\n",
        "for power in powers_of_2(10):\n",
        "    print(power, end=\" \")\n"
      ],
      "metadata": {
        "id": "Q-Qg5XqsV2BV"
      },
      "execution_count": null,
      "outputs": []
    },
    {
      "cell_type": "markdown",
      "source": [
        "7.Implement a generator function that reads a file line by line and yields each line as a string.\n",
        "\n"
      ],
      "metadata": {
        "id": "KE5sdiSm561a"
      }
    },
    {
      "cell_type": "code",
      "source": [
        "def read_lines(filename):\n",
        "    with open(filename, 'r') as file:\n",
        "        for line in file:\n",
        "            yield line.strip()\n"
      ],
      "metadata": {
        "id": "SicrBxNB5-tf"
      },
      "execution_count": null,
      "outputs": []
    },
    {
      "cell_type": "markdown",
      "source": [
        "8.Use a lambda function in Python to sort a list of tuples based on the second element of each tuple."
      ],
      "metadata": {
        "id": "Il4MXZj76CgB"
      }
    },
    {
      "cell_type": "code",
      "source": [
        "data = [(1, 'b'), (3, 'a'), (2, 'c')]\n",
        "sorted_data = sorted(data, key=lambda x: x[1])\n",
        "print(sorted_data)\n"
      ],
      "metadata": {
        "id": "VIjRFqDW6GPd"
      },
      "execution_count": null,
      "outputs": []
    },
    {
      "cell_type": "markdown",
      "source": [
        "9.Write a Python program that uses map() to convert a list of temperatures from Celsius to Fahrenheit."
      ],
      "metadata": {
        "id": "TM2nlKod6Ivz"
      }
    },
    {
      "cell_type": "code",
      "source": [
        "celsius = [0, 20, 30, 40]\n",
        "fahrenheit = list(map(lambda x: (x * 9/5) + 32, celsius))\n",
        "print(fahrenheit)\n"
      ],
      "metadata": {
        "id": "YBllY11m6LXM"
      },
      "execution_count": null,
      "outputs": []
    },
    {
      "cell_type": "markdown",
      "source": [
        "10.Create a Python program that uses filter() to remove all the vowels from a given string"
      ],
      "metadata": {
        "id": "2iAS3J7i6MvU"
      }
    },
    {
      "cell_type": "code",
      "source": [
        "def remove_vowels(string):\n",
        "    vowels = 'aeiouAEIOU'\n",
        "    return ''.join(filter(lambda char: char not in vowels, string))\n",
        "\n",
        "print(remove_vowels(\"Hello World\"))\n"
      ],
      "metadata": {
        "id": "aTMPDT0E6PR5"
      },
      "execution_count": null,
      "outputs": []
    },
    {
      "cell_type": "markdown",
      "source": [
        "11.Write a Python program that processes the given accounting list."
      ],
      "metadata": {
        "id": "96UBmkfY6RUw"
      }
    },
    {
      "cell_type": "code",
      "source": [
        "data = [\n",
        "    [34587, \"Learning Python, Mark Lutz\", 4, 40.95],\n",
        "    [98762, \"Programming Python, Mark Lutz\", 5, 56.80],\n",
        "    [77226, \"Head First Python, Paul Barry\", 3, 32.95],\n",
        "    [88112, \"Einführung in Python3, Bernd Klein\", 3, 24.99]\n",
        "]\n",
        "\n",
        "result = list(map(\n",
        "    lambda x: (x[0], x[2] * x[3] + (10 if x[2] * x[3] < 100 else 0)),\n",
        "    data\n",
        "))\n",
        "print(result)\n"
      ],
      "metadata": {
        "colab": {
          "base_uri": "https://localhost:8080/"
        },
        "id": "U3zgQ6lM6UQi",
        "outputId": "58fcf563-fb22-4253-dd8d-f0857c3f3ed4"
      },
      "execution_count": 19,
      "outputs": [
        {
          "output_type": "stream",
          "name": "stdout",
          "text": [
            "[(34587, 163.8), (98762, 284.0), (77226, 108.85000000000001), (88112, 84.97)]\n"
          ]
        }
      ]
    }
  ]
}